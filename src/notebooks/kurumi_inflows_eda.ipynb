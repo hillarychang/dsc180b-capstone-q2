{
 "cells": [
  {
   "cell_type": "code",
   "execution_count": 1,
   "id": "521ea20c-f2ef-4dc2-ac2a-55a8ad389533",
   "metadata": {},
   "outputs": [],
   "source": [
    "import pandas as pd\n",
    "import numpy as np\n",
    "import seaborn as sns\n",
    "import matplotlib.pyplot as plt"
   ]
  },
  {
   "cell_type": "code",
   "execution_count": 2,
   "id": "0b780091-f177-4124-8814-6b38f1161fb3",
   "metadata": {
    "scrolled": true
   },
   "outputs": [
    {
     "data": {
      "text/html": [
       "<div>\n",
       "<style scoped>\n",
       "    .dataframe tbody tr th:only-of-type {\n",
       "        vertical-align: middle;\n",
       "    }\n",
       "\n",
       "    .dataframe tbody tr th {\n",
       "        vertical-align: top;\n",
       "    }\n",
       "\n",
       "    .dataframe thead th {\n",
       "        text-align: right;\n",
       "    }\n",
       "</style>\n",
       "<table border=\"1\" class=\"dataframe\">\n",
       "  <thead>\n",
       "    <tr style=\"text-align: right;\">\n",
       "      <th></th>\n",
       "      <th>prism_consumer_id</th>\n",
       "      <th>prism_account_id</th>\n",
       "      <th>memo</th>\n",
       "      <th>amount</th>\n",
       "      <th>posted_date</th>\n",
       "      <th>category</th>\n",
       "    </tr>\n",
       "  </thead>\n",
       "  <tbody>\n",
       "    <tr>\n",
       "      <th>0</th>\n",
       "      <td>0</td>\n",
       "      <td>acc_0</td>\n",
       "      <td>PAYCHECK</td>\n",
       "      <td>2477.02</td>\n",
       "      <td>2022-03-18</td>\n",
       "      <td>PAYCHECK</td>\n",
       "    </tr>\n",
       "    <tr>\n",
       "      <th>1</th>\n",
       "      <td>0</td>\n",
       "      <td>acc_0</td>\n",
       "      <td>EXTERNAL_TRANSFER</td>\n",
       "      <td>100.00</td>\n",
       "      <td>2022-10-25</td>\n",
       "      <td>EXTERNAL_TRANSFER</td>\n",
       "    </tr>\n",
       "    <tr>\n",
       "      <th>2</th>\n",
       "      <td>0</td>\n",
       "      <td>acc_0</td>\n",
       "      <td>MISCELLANEOUS</td>\n",
       "      <td>6.29</td>\n",
       "      <td>2022-08-26</td>\n",
       "      <td>MISCELLANEOUS</td>\n",
       "    </tr>\n",
       "    <tr>\n",
       "      <th>3</th>\n",
       "      <td>0</td>\n",
       "      <td>acc_0</td>\n",
       "      <td>EXTERNAL_TRANSFER</td>\n",
       "      <td>277.00</td>\n",
       "      <td>2022-06-03</td>\n",
       "      <td>EXTERNAL_TRANSFER</td>\n",
       "    </tr>\n",
       "    <tr>\n",
       "      <th>4</th>\n",
       "      <td>0</td>\n",
       "      <td>acc_0</td>\n",
       "      <td>EXTERNAL_TRANSFER</td>\n",
       "      <td>100.00</td>\n",
       "      <td>2022-07-29</td>\n",
       "      <td>EXTERNAL_TRANSFER</td>\n",
       "    </tr>\n",
       "    <tr>\n",
       "      <th>...</th>\n",
       "      <td>...</td>\n",
       "      <td>...</td>\n",
       "      <td>...</td>\n",
       "      <td>...</td>\n",
       "      <td>...</td>\n",
       "      <td>...</td>\n",
       "    </tr>\n",
       "    <tr>\n",
       "      <th>513110</th>\n",
       "      <td>5941</td>\n",
       "      <td>acc_9524</td>\n",
       "      <td>EXTERNAL_TRANSFER</td>\n",
       "      <td>8.66</td>\n",
       "      <td>2023-01-21</td>\n",
       "      <td>EXTERNAL_TRANSFER</td>\n",
       "    </tr>\n",
       "    <tr>\n",
       "      <th>513111</th>\n",
       "      <td>5941</td>\n",
       "      <td>acc_9524</td>\n",
       "      <td>EXTERNAL_TRANSFER</td>\n",
       "      <td>267.13</td>\n",
       "      <td>2023-01-23</td>\n",
       "      <td>EXTERNAL_TRANSFER</td>\n",
       "    </tr>\n",
       "    <tr>\n",
       "      <th>513112</th>\n",
       "      <td>5941</td>\n",
       "      <td>acc_9524</td>\n",
       "      <td>EXTERNAL_TRANSFER</td>\n",
       "      <td>2.00</td>\n",
       "      <td>2023-01-24</td>\n",
       "      <td>EXTERNAL_TRANSFER</td>\n",
       "    </tr>\n",
       "    <tr>\n",
       "      <th>513113</th>\n",
       "      <td>5941</td>\n",
       "      <td>acc_9524</td>\n",
       "      <td>EXTERNAL_TRANSFER</td>\n",
       "      <td>207.16</td>\n",
       "      <td>2023-01-24</td>\n",
       "      <td>EXTERNAL_TRANSFER</td>\n",
       "    </tr>\n",
       "    <tr>\n",
       "      <th>513114</th>\n",
       "      <td>5941</td>\n",
       "      <td>acc_9524</td>\n",
       "      <td>EXTERNAL_TRANSFER</td>\n",
       "      <td>281.71</td>\n",
       "      <td>2023-01-25</td>\n",
       "      <td>EXTERNAL_TRANSFER</td>\n",
       "    </tr>\n",
       "  </tbody>\n",
       "</table>\n",
       "<p>513115 rows × 6 columns</p>\n",
       "</div>"
      ],
      "text/plain": [
       "        prism_consumer_id prism_account_id               memo   amount  \\\n",
       "0                       0            acc_0           PAYCHECK  2477.02   \n",
       "1                       0            acc_0  EXTERNAL_TRANSFER   100.00   \n",
       "2                       0            acc_0      MISCELLANEOUS     6.29   \n",
       "3                       0            acc_0  EXTERNAL_TRANSFER   277.00   \n",
       "4                       0            acc_0  EXTERNAL_TRANSFER   100.00   \n",
       "...                   ...              ...                ...      ...   \n",
       "513110               5941         acc_9524  EXTERNAL_TRANSFER     8.66   \n",
       "513111               5941         acc_9524  EXTERNAL_TRANSFER   267.13   \n",
       "513112               5941         acc_9524  EXTERNAL_TRANSFER     2.00   \n",
       "513113               5941         acc_9524  EXTERNAL_TRANSFER   207.16   \n",
       "513114               5941         acc_9524  EXTERNAL_TRANSFER   281.71   \n",
       "\n",
       "       posted_date           category  \n",
       "0       2022-03-18           PAYCHECK  \n",
       "1       2022-10-25  EXTERNAL_TRANSFER  \n",
       "2       2022-08-26      MISCELLANEOUS  \n",
       "3       2022-06-03  EXTERNAL_TRANSFER  \n",
       "4       2022-07-29  EXTERNAL_TRANSFER  \n",
       "...            ...                ...  \n",
       "513110  2023-01-21  EXTERNAL_TRANSFER  \n",
       "513111  2023-01-23  EXTERNAL_TRANSFER  \n",
       "513112  2023-01-24  EXTERNAL_TRANSFER  \n",
       "513113  2023-01-24  EXTERNAL_TRANSFER  \n",
       "513114  2023-01-25  EXTERNAL_TRANSFER  \n",
       "\n",
       "[513115 rows x 6 columns]"
      ]
     },
     "execution_count": 2,
     "metadata": {},
     "output_type": "execute_result"
    }
   ],
   "source": [
    "data = pd.read_parquet('../data/ucsd-inflows.pqt', engine='pyarrow')\n",
    "data"
   ]
  },
  {
   "cell_type": "code",
   "execution_count": 3,
   "id": "70037b05-7537-46f6-8f7f-435b07f95201",
   "metadata": {},
   "outputs": [],
   "source": [
    "cleaned_data = data[data['category'].isin(['PAYCHECK', 'EXTERNAL_TRANSFER', 'INVESTMENT_INCOME', 'DEPOSIT', 'PAYCHECK_PLACEHOLDER', 'INSURANCE', 'OTHER_BENEFITS', 'UNEMPLOYMENT_BENEFITS'])]\n",
    "cleaned_data.replace('PAYCHECK_PLACEHOLDER', 'PAYCHECK')\n",
    "transaction_category = cleaned_data.groupby(['prism_consumer_id', 'category'])"
   ]
  },
  {
   "cell_type": "code",
   "execution_count": 4,
   "id": "dce348f8-909c-402b-b942-8aa91f8e7ca8",
   "metadata": {},
   "outputs": [
    {
     "data": {
      "text/plain": [
       "prism_consumer_id\n",
       "37      8262010.27\n",
       "158     4096693.97\n",
       "1308    2947694.28\n",
       "1094    2271179.03\n",
       "4901    2212199.35\n",
       "           ...    \n",
       "5718          0.06\n",
       "824           0.05\n",
       "5214          0.03\n",
       "5474          0.03\n",
       "5168          0.02\n",
       "Name: amount, Length: 2967, dtype: float64"
      ]
     },
     "execution_count": 4,
     "metadata": {},
     "output_type": "execute_result"
    }
   ],
   "source": [
    "# total dollar amount per consumer\n",
    "cleaned_data.groupby(['prism_consumer_id'])['amount'].sum().sort_values(ascending=False)"
   ]
  },
  {
   "cell_type": "code",
   "execution_count": 5,
   "id": "0c594e98-41bc-41cc-b4e5-a3d96bfe86c2",
   "metadata": {},
   "outputs": [
    {
     "data": {
      "text/plain": [
       "102.55173576002696"
      ]
     },
     "execution_count": 5,
     "metadata": {},
     "output_type": "execute_result"
    }
   ],
   "source": [
    "# average transaction per consumer\n",
    "cleaned_data.groupby(['prism_consumer_id'])['memo'].count().mean()"
   ]
  },
  {
   "cell_type": "code",
   "execution_count": 6,
   "id": "0df6195e-52ba-4f66-9412-8e69f1def131",
   "metadata": {},
   "outputs": [
    {
     "data": {
      "text/plain": [
       "category\n",
       "DEPOSIT                  25114.005882\n",
       "EXTERNAL_TRANSFER        29368.694075\n",
       "INSURANCE                 4701.583611\n",
       "INVESTMENT_INCOME         4998.024927\n",
       "OTHER_BENEFITS           26469.211870\n",
       "PAYCHECK                 35145.426344\n",
       "PAYCHECK_PLACEHOLDER     27319.175004\n",
       "UNEMPLOYMENT_BENEFITS    12108.419474\n",
       "Name: total_amount, dtype: float64"
      ]
     },
     "execution_count": 6,
     "metadata": {},
     "output_type": "execute_result"
    }
   ],
   "source": [
    "grouped_data = cleaned_data.groupby(['prism_consumer_id', 'category']).agg(\n",
    "    total_amount=('amount','sum'), \n",
    "    total_transactions=('posted_date', 'count')).reset_index()\n",
    "\n",
    "# average amount per category\n",
    "grouped_data.groupby('category')['total_amount'].mean()"
   ]
  },
  {
   "cell_type": "code",
   "execution_count": 7,
   "id": "c48a1271-788a-4312-adff-b100fff05c6f",
   "metadata": {},
   "outputs": [
    {
     "data": {
      "text/plain": [
       "category\n",
       "DEPOSIT                  23.131599\n",
       "EXTERNAL_TRANSFER        56.347372\n",
       "INSURANCE                 2.416667\n",
       "INVESTMENT_INCOME        12.572569\n",
       "OTHER_BENEFITS           16.756522\n",
       "PAYCHECK                 21.560182\n",
       "PAYCHECK_PLACEHOLDER     19.959449\n",
       "UNEMPLOYMENT_BENEFITS    14.744361\n",
       "Name: total_transactions, dtype: float64"
      ]
     },
     "execution_count": 7,
     "metadata": {},
     "output_type": "execute_result"
    }
   ],
   "source": [
    "# average transcation amount per category\n",
    "grouped_data.groupby('category')['total_transactions'].mean()"
   ]
  },
  {
   "cell_type": "code",
   "execution_count": 8,
   "id": "411b10aa-d927-4263-816a-76081d9b2502",
   "metadata": {},
   "outputs": [],
   "source": [
    "result = cleaned_data.groupby('prism_consumer_id').agg(\n",
    "    min_date=('posted_date', 'min'),\n",
    "    max_date=('posted_date', 'max'),\n",
    "    total_transactions=('posted_date', 'count'),\n",
    "    total_amount=('amount', 'sum')\n",
    ").reset_index()"
   ]
  },
  {
   "cell_type": "code",
   "execution_count": 9,
   "id": "ba344672-dcb4-4886-ba06-9a4e215ccf8b",
   "metadata": {},
   "outputs": [],
   "source": [
    "result['min_date'] = pd.to_datetime(result['min_date'])\n",
    "result['max_date'] = pd.to_datetime(result['max_date'])\n",
    "result['total_acc_months'] = ((result['max_date'] - result['min_date']).dt.days + 1) / 365"
   ]
  },
  {
   "cell_type": "code",
   "execution_count": 10,
   "id": "ccba4bbd-b4ce-4fb6-8621-86d3d5034c17",
   "metadata": {},
   "outputs": [
    {
     "data": {
      "text/html": [
       "<div>\n",
       "<style scoped>\n",
       "    .dataframe tbody tr th:only-of-type {\n",
       "        vertical-align: middle;\n",
       "    }\n",
       "\n",
       "    .dataframe tbody tr th {\n",
       "        vertical-align: top;\n",
       "    }\n",
       "\n",
       "    .dataframe thead th {\n",
       "        text-align: right;\n",
       "    }\n",
       "</style>\n",
       "<table border=\"1\" class=\"dataframe\">\n",
       "  <thead>\n",
       "    <tr style=\"text-align: right;\">\n",
       "      <th></th>\n",
       "      <th>prism_consumer_id</th>\n",
       "      <th>min_date</th>\n",
       "      <th>max_date</th>\n",
       "      <th>total_transactions</th>\n",
       "      <th>total_amount</th>\n",
       "      <th>total_acc_months</th>\n",
       "    </tr>\n",
       "  </thead>\n",
       "  <tbody>\n",
       "    <tr>\n",
       "      <th>0</th>\n",
       "      <td>0</td>\n",
       "      <td>2022-02-14</td>\n",
       "      <td>2023-02-03</td>\n",
       "      <td>83</td>\n",
       "      <td>105654.93</td>\n",
       "      <td>0.972603</td>\n",
       "    </tr>\n",
       "    <tr>\n",
       "      <th>1</th>\n",
       "      <td>2</td>\n",
       "      <td>2021-01-13</td>\n",
       "      <td>2021-12-02</td>\n",
       "      <td>29</td>\n",
       "      <td>226065.54</td>\n",
       "      <td>0.887671</td>\n",
       "    </tr>\n",
       "    <tr>\n",
       "      <th>2</th>\n",
       "      <td>4</td>\n",
       "      <td>2022-02-04</td>\n",
       "      <td>2023-01-30</td>\n",
       "      <td>90</td>\n",
       "      <td>329884.21</td>\n",
       "      <td>0.989041</td>\n",
       "    </tr>\n",
       "    <tr>\n",
       "      <th>3</th>\n",
       "      <td>7</td>\n",
       "      <td>2022-05-06</td>\n",
       "      <td>2023-04-20</td>\n",
       "      <td>63</td>\n",
       "      <td>155608.36</td>\n",
       "      <td>0.958904</td>\n",
       "    </tr>\n",
       "    <tr>\n",
       "      <th>4</th>\n",
       "      <td>9</td>\n",
       "      <td>2018-10-12</td>\n",
       "      <td>2021-07-14</td>\n",
       "      <td>207</td>\n",
       "      <td>178844.31</td>\n",
       "      <td>2.758904</td>\n",
       "    </tr>\n",
       "    <tr>\n",
       "      <th>...</th>\n",
       "      <td>...</td>\n",
       "      <td>...</td>\n",
       "      <td>...</td>\n",
       "      <td>...</td>\n",
       "      <td>...</td>\n",
       "      <td>...</td>\n",
       "    </tr>\n",
       "    <tr>\n",
       "      <th>2962</th>\n",
       "      <td>5930</td>\n",
       "      <td>2021-02-09</td>\n",
       "      <td>2023-02-02</td>\n",
       "      <td>76</td>\n",
       "      <td>52280.42</td>\n",
       "      <td>1.983562</td>\n",
       "    </tr>\n",
       "    <tr>\n",
       "      <th>2963</th>\n",
       "      <td>5935</td>\n",
       "      <td>2021-02-17</td>\n",
       "      <td>2022-08-03</td>\n",
       "      <td>50</td>\n",
       "      <td>9212.70</td>\n",
       "      <td>1.460274</td>\n",
       "    </tr>\n",
       "    <tr>\n",
       "      <th>2964</th>\n",
       "      <td>5939</td>\n",
       "      <td>2021-02-01</td>\n",
       "      <td>2023-01-27</td>\n",
       "      <td>79</td>\n",
       "      <td>29962.81</td>\n",
       "      <td>1.989041</td>\n",
       "    </tr>\n",
       "    <tr>\n",
       "      <th>2965</th>\n",
       "      <td>5940</td>\n",
       "      <td>2021-10-08</td>\n",
       "      <td>2023-02-01</td>\n",
       "      <td>371</td>\n",
       "      <td>60191.25</td>\n",
       "      <td>1.320548</td>\n",
       "    </tr>\n",
       "    <tr>\n",
       "      <th>2966</th>\n",
       "      <td>5941</td>\n",
       "      <td>2022-07-02</td>\n",
       "      <td>2023-01-25</td>\n",
       "      <td>264</td>\n",
       "      <td>48504.37</td>\n",
       "      <td>0.569863</td>\n",
       "    </tr>\n",
       "  </tbody>\n",
       "</table>\n",
       "<p>2967 rows × 6 columns</p>\n",
       "</div>"
      ],
      "text/plain": [
       "      prism_consumer_id   min_date   max_date  total_transactions  \\\n",
       "0                     0 2022-02-14 2023-02-03                  83   \n",
       "1                     2 2021-01-13 2021-12-02                  29   \n",
       "2                     4 2022-02-04 2023-01-30                  90   \n",
       "3                     7 2022-05-06 2023-04-20                  63   \n",
       "4                     9 2018-10-12 2021-07-14                 207   \n",
       "...                 ...        ...        ...                 ...   \n",
       "2962               5930 2021-02-09 2023-02-02                  76   \n",
       "2963               5935 2021-02-17 2022-08-03                  50   \n",
       "2964               5939 2021-02-01 2023-01-27                  79   \n",
       "2965               5940 2021-10-08 2023-02-01                 371   \n",
       "2966               5941 2022-07-02 2023-01-25                 264   \n",
       "\n",
       "      total_amount  total_acc_months  \n",
       "0        105654.93          0.972603  \n",
       "1        226065.54          0.887671  \n",
       "2        329884.21          0.989041  \n",
       "3        155608.36          0.958904  \n",
       "4        178844.31          2.758904  \n",
       "...            ...               ...  \n",
       "2962      52280.42          1.983562  \n",
       "2963       9212.70          1.460274  \n",
       "2964      29962.81          1.989041  \n",
       "2965      60191.25          1.320548  \n",
       "2966      48504.37          0.569863  \n",
       "\n",
       "[2967 rows x 6 columns]"
      ]
     },
     "execution_count": 10,
     "metadata": {},
     "output_type": "execute_result"
    }
   ],
   "source": [
    "result"
   ]
  },
  {
   "cell_type": "code",
   "execution_count": 11,
   "id": "81355e2a-5580-4bc9-ad61-31e419fbd9d6",
   "metadata": {},
   "outputs": [
    {
     "data": {
      "text/html": [
       "<div>\n",
       "<style scoped>\n",
       "    .dataframe tbody tr th:only-of-type {\n",
       "        vertical-align: middle;\n",
       "    }\n",
       "\n",
       "    .dataframe tbody tr th {\n",
       "        vertical-align: top;\n",
       "    }\n",
       "\n",
       "    .dataframe thead th {\n",
       "        text-align: right;\n",
       "    }\n",
       "</style>\n",
       "<table border=\"1\" class=\"dataframe\">\n",
       "  <thead>\n",
       "    <tr style=\"text-align: right;\">\n",
       "      <th></th>\n",
       "      <th>prism_consumer_id</th>\n",
       "      <th>total_amount</th>\n",
       "      <th>total_transactions</th>\n",
       "      <th>total_acc_months</th>\n",
       "      <th>trans_per_month</th>\n",
       "      <th>amount_per_month</th>\n",
       "    </tr>\n",
       "  </thead>\n",
       "  <tbody>\n",
       "    <tr>\n",
       "      <th>0</th>\n",
       "      <td>0</td>\n",
       "      <td>105654.93</td>\n",
       "      <td>83</td>\n",
       "      <td>0.972603</td>\n",
       "      <td>85.338028</td>\n",
       "      <td>108631.125211</td>\n",
       "    </tr>\n",
       "    <tr>\n",
       "      <th>1</th>\n",
       "      <td>2</td>\n",
       "      <td>226065.54</td>\n",
       "      <td>29</td>\n",
       "      <td>0.887671</td>\n",
       "      <td>32.669753</td>\n",
       "      <td>254672.599074</td>\n",
       "    </tr>\n",
       "    <tr>\n",
       "      <th>2</th>\n",
       "      <td>4</td>\n",
       "      <td>329884.21</td>\n",
       "      <td>90</td>\n",
       "      <td>0.989041</td>\n",
       "      <td>90.997230</td>\n",
       "      <td>333539.436704</td>\n",
       "    </tr>\n",
       "    <tr>\n",
       "      <th>3</th>\n",
       "      <td>7</td>\n",
       "      <td>155608.36</td>\n",
       "      <td>63</td>\n",
       "      <td>0.958904</td>\n",
       "      <td>65.700000</td>\n",
       "      <td>162277.289714</td>\n",
       "    </tr>\n",
       "    <tr>\n",
       "      <th>4</th>\n",
       "      <td>9</td>\n",
       "      <td>178844.31</td>\n",
       "      <td>207</td>\n",
       "      <td>2.758904</td>\n",
       "      <td>75.029791</td>\n",
       "      <td>64824.402334</td>\n",
       "    </tr>\n",
       "    <tr>\n",
       "      <th>...</th>\n",
       "      <td>...</td>\n",
       "      <td>...</td>\n",
       "      <td>...</td>\n",
       "      <td>...</td>\n",
       "      <td>...</td>\n",
       "      <td>...</td>\n",
       "    </tr>\n",
       "    <tr>\n",
       "      <th>2962</th>\n",
       "      <td>5930</td>\n",
       "      <td>52280.42</td>\n",
       "      <td>76</td>\n",
       "      <td>1.983562</td>\n",
       "      <td>38.314917</td>\n",
       "      <td>26356.841575</td>\n",
       "    </tr>\n",
       "    <tr>\n",
       "      <th>2963</th>\n",
       "      <td>5935</td>\n",
       "      <td>9212.70</td>\n",
       "      <td>50</td>\n",
       "      <td>1.460274</td>\n",
       "      <td>34.240150</td>\n",
       "      <td>6308.884615</td>\n",
       "    </tr>\n",
       "    <tr>\n",
       "      <th>2964</th>\n",
       "      <td>5939</td>\n",
       "      <td>29962.81</td>\n",
       "      <td>79</td>\n",
       "      <td>1.989041</td>\n",
       "      <td>39.717631</td>\n",
       "      <td>15063.947176</td>\n",
       "    </tr>\n",
       "    <tr>\n",
       "      <th>2965</th>\n",
       "      <td>5940</td>\n",
       "      <td>60191.25</td>\n",
       "      <td>371</td>\n",
       "      <td>1.320548</td>\n",
       "      <td>280.943983</td>\n",
       "      <td>45580.510892</td>\n",
       "    </tr>\n",
       "    <tr>\n",
       "      <th>2966</th>\n",
       "      <td>5941</td>\n",
       "      <td>48504.37</td>\n",
       "      <td>264</td>\n",
       "      <td>0.569863</td>\n",
       "      <td>463.269231</td>\n",
       "      <td>85115.841587</td>\n",
       "    </tr>\n",
       "  </tbody>\n",
       "</table>\n",
       "<p>2967 rows × 6 columns</p>\n",
       "</div>"
      ],
      "text/plain": [
       "      prism_consumer_id  total_amount  total_transactions  total_acc_months  \\\n",
       "0                     0     105654.93                  83          0.972603   \n",
       "1                     2     226065.54                  29          0.887671   \n",
       "2                     4     329884.21                  90          0.989041   \n",
       "3                     7     155608.36                  63          0.958904   \n",
       "4                     9     178844.31                 207          2.758904   \n",
       "...                 ...           ...                 ...               ...   \n",
       "2962               5930      52280.42                  76          1.983562   \n",
       "2963               5935       9212.70                  50          1.460274   \n",
       "2964               5939      29962.81                  79          1.989041   \n",
       "2965               5940      60191.25                 371          1.320548   \n",
       "2966               5941      48504.37                 264          0.569863   \n",
       "\n",
       "      trans_per_month  amount_per_month  \n",
       "0           85.338028     108631.125211  \n",
       "1           32.669753     254672.599074  \n",
       "2           90.997230     333539.436704  \n",
       "3           65.700000     162277.289714  \n",
       "4           75.029791      64824.402334  \n",
       "...               ...               ...  \n",
       "2962        38.314917      26356.841575  \n",
       "2963        34.240150       6308.884615  \n",
       "2964        39.717631      15063.947176  \n",
       "2965       280.943983      45580.510892  \n",
       "2966       463.269231      85115.841587  \n",
       "\n",
       "[2967 rows x 6 columns]"
      ]
     },
     "execution_count": 11,
     "metadata": {},
     "output_type": "execute_result"
    }
   ],
   "source": [
    "avg_trans = result.copy()\n",
    "avg_trans = avg_trans[['prism_consumer_id', 'total_amount', 'total_transactions', 'total_acc_months']]\n",
    "avg_trans.loc[:, 'trans_per_month'] = avg_trans['total_transactions'] / avg_trans['total_acc_months']\n",
    "avg_trans.loc[:, 'amount_per_month'] = avg_trans['total_amount'] / avg_trans['total_acc_months']\n",
    "avg_trans"
   ]
  },
  {
   "cell_type": "code",
   "execution_count": 12,
   "id": "f3b253c2-65ab-4d65-8214-f09c230e9bc4",
   "metadata": {
    "scrolled": true
   },
   "outputs": [
    {
     "data": {
      "text/plain": [
       "count    2967.000000\n",
       "mean      135.380638\n",
       "std       132.735206\n",
       "min         3.330292\n",
       "25%        60.117647\n",
       "50%        96.617647\n",
       "75%       162.456647\n",
       "max      1724.171271\n",
       "Name: trans_per_month, dtype: float64"
      ]
     },
     "execution_count": 12,
     "metadata": {},
     "output_type": "execute_result"
    }
   ],
   "source": [
    "# total number of transactions per consumer per month\n",
    "# number of months is the amount the consumer has an acc\n",
    "avg_trans['trans_per_month'].describe()"
   ]
  },
  {
   "cell_type": "code",
   "execution_count": 13,
   "id": "8a838d36-5fd0-4151-b875-9ab95bf63a37",
   "metadata": {},
   "outputs": [
    {
     "data": {
      "text/plain": [
       "135.38063827911233"
      ]
     },
     "execution_count": 13,
     "metadata": {},
     "output_type": "execute_result"
    }
   ],
   "source": [
    "# average number of transactions per consumer\n",
    "avg_trans['trans_per_month'].mean()"
   ]
  },
  {
   "cell_type": "code",
   "execution_count": 14,
   "id": "340fdafa-1a68-4f5c-b9e3-e8000c54bed1",
   "metadata": {},
   "outputs": [
    {
     "data": {
      "text/plain": [
       "count    2.967000e+03\n",
       "mean     9.650955e+04\n",
       "std      2.317278e+05\n",
       "min      5.480480e-02\n",
       "25%      2.879515e+04\n",
       "50%      5.311629e+04\n",
       "75%      1.005375e+05\n",
       "max      8.284708e+06\n",
       "Name: amount_per_month, dtype: float64"
      ]
     },
     "execution_count": 14,
     "metadata": {},
     "output_type": "execute_result"
    }
   ],
   "source": [
    "# total dollar amount per consumer per month\n",
    "# number of months is the amount the consumer has an acc\n",
    "avg_trans['amount_per_month'].describe()"
   ]
  },
  {
   "cell_type": "code",
   "execution_count": 15,
   "id": "db3b4c4f-8f94-40a5-8a53-dd14e64b9554",
   "metadata": {},
   "outputs": [
    {
     "data": {
      "text/plain": [
       "96509.55225846882"
      ]
     },
     "execution_count": 15,
     "metadata": {},
     "output_type": "execute_result"
    }
   ],
   "source": [
    "# average amount per consumer\n",
    "avg_trans['amount_per_month'].mean()"
   ]
  },
  {
   "cell_type": "code",
   "execution_count": null,
   "id": "23eea813-d3d5-4dc9-8d96-a3882788eddd",
   "metadata": {},
   "outputs": [],
   "source": []
  }
 ],
 "metadata": {
  "kernelspec": {
   "display_name": "Python 3 (ipykernel)",
   "language": "python",
   "name": "python3"
  },
  "language_info": {
   "codemirror_mode": {
    "name": "ipython",
    "version": 3
   },
   "file_extension": ".py",
   "mimetype": "text/x-python",
   "name": "python",
   "nbconvert_exporter": "python",
   "pygments_lexer": "ipython3",
   "version": "3.11.9"
  }
 },
 "nbformat": 4,
 "nbformat_minor": 5
}
